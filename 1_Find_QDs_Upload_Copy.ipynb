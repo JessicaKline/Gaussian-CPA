{
  "cells": [
    {
      "cell_type": "markdown",
      "source": [
        "**1. Find QDs** \n",
        "\n",
        "Written by Jessica Kline and Mummar Yaman\n",
        "\n",
        "This code is the first step in analyzing widefield blinking videos. It reads in blinking videos of file type \".ome.tif\" and retuns a \".png\" showing the selected QDs along with a \".csv\" containing a stack of blinking traces from the selected QDs.\n",
        "\n",
        "Particle selection occurs by using Laplacian of Gaussian [LoG](https://scikit-image.org/docs/stable/api/skimage.feature.html#skimage.feature.blob_log) method. You can find detail explanation from the [link](https://scikit-image.org/docs/stable/auto_examples/features_detection/plot_blob.html)."
      ],
      "metadata": {
        "id": "O3LYQsUfge7A"
      }
    },
    {
      "cell_type": "code",
      "execution_count": null,
      "metadata": {
        "id": "pQSc1r_x82un",
        "cellView": "form"
      },
      "outputs": [],
      "source": [
        "#@title Install Library\n",
        "#for Google Colab, we need to downgrade the pyyaml \n",
        "!pip install pyyaml==5.4.1\n",
        "!pip install aicsimageio"
      ]
    },
    {
      "cell_type": "code",
      "execution_count": null,
      "metadata": {
        "id": "mOvApJYJ8T-A",
        "cellView": "form"
      },
      "outputs": [],
      "source": [
        "#@title Import Function\n",
        "import sys\n",
        "import os\n",
        "import numpy as np\n",
        "from aicsimageio import AICSImage, imread\n",
        "\n",
        "import os\n",
        "import pandas as pd\n",
        "\n",
        "import cv2\n",
        "from math import sqrt\n",
        "import numpy as np\n",
        "import matplotlib.pyplot as plt\n",
        "import matplotlib.gridspec as gridspec\n",
        "\n",
        "# from skimage import data\n",
        "from skimage.feature import blob_dog, blob_log, blob_doh\n",
        "from skimage.color import rgb2gray\n",
        "from skimage.transform import rescale, resize, downscale_local_mean\n",
        "\n",
        "!pip install matplotlib-scalebar\n",
        "from matplotlib_scalebar.scalebar import ScaleBar\n",
        "\n",
        "import ipywidgets as widgets"
      ]
    },
    {
      "cell_type": "code",
      "execution_count": null,
      "metadata": {
        "id": "GSAst94PTWyf",
        "cellView": "form"
      },
      "outputs": [],
      "source": [
        "#@title Particle Picking Functions\n",
        "#Written by Muammer Yaman\n",
        "\n",
        "def particle_finder_oem_data(oem_data, min_sigma=1,max_sigma=10, threshold=0.02,overlap=0.2,radius=20):\n",
        "  '''\n",
        "  finding particle positons in oem data using Laplacian of Gaussian\n",
        "  input\n",
        "  oem_data: oem data \n",
        "  min_sigma: scalar or sequence of scalars, optional\n",
        "  max_sigma: scalar or sequence of scalars, optional\n",
        "  threshold:float or None, optional\n",
        "  radius: radius of the mask, optinal. The \n",
        "  output\n",
        "  dictonary of each particle positions\n",
        "  '''\n",
        "  \n",
        "  coord_dict_new_hyper= {}\n",
        "\n",
        "\n",
        "  max_cont=oem_data.mean(axis=0)\n",
        "  max_cont = 255*(max_cont-max_cont.min())/(max_cont.max()-max_cont.min())\n",
        "  max_cont = max_cont.astype('uint8')\n",
        "  image = max_cont\n",
        "  # image = rescale(image, 0.25, anti_aliasing=False)\n",
        "  image = image.astype('uint8')\n",
        "\n",
        "  image_gray = image\n",
        "\n",
        "  #remove bigger particles \n",
        "  blobs_log_bigger = blob_log(image_gray, min_sigma=max_sigma, threshold=threshold,overlap=overlap) #0.2 for image\n",
        "  # draw filled circles in white on black background as masks\n",
        "  mask1 = np.zeros((image_gray.shape))\n",
        "  radius=radius\n",
        "  for i in range(len(blobs_log_bigger)):\n",
        "    xc,yc=int(blobs_log_bigger[i,1]),int(blobs_log_bigger[i,0])\n",
        "    mask1=cv2.circle(mask1,(xc,yc),radius,255,-1)\n",
        "\n",
        "  blobs_log = blob_log(image_gray, min_sigma=min_sigma,max_sigma=max_sigma, threshold=threshold,overlap=overlap) #0.2 for image\n",
        "\n",
        "  # Compute radii in the 3rd column.\n",
        "  blobs_log[:, 2] = blobs_log[:, 2] * sqrt(2)\n",
        "\n",
        "  loc_dict = {}\n",
        "  j = 0\n",
        "\n",
        "  for c in range(blobs_log.shape[0]):\n",
        "    # print(blobs_log[c][0], blobs_log[c][1])\n",
        "    y, x =[blobs_log[c][0], blobs_log[c][1]]\n",
        "    if mask1[int(y),int(x)] !=255:\n",
        "      loc_dict[j] = [blobs_log[c][0], blobs_log[c][1]]\n",
        "      j = j+1\n",
        "\n",
        "  coord_dict_new_hyper = loc_dict\n",
        "  return coord_dict_new_hyper\n",
        "\n",
        "\n",
        "def particle_show(image_par,loc_particles, parent_folder, name):\n",
        "  '''\n",
        "  image_par:selected area of image\n",
        "  loc_particles:information of particle location, should include x and y coordinates\n",
        "  '''\n",
        "  fig, axes = plt.subplots(1, 2, figsize=(15, 7), sharex=True, sharey=False)\n",
        "  # ax = axes.ravel()\n",
        "  ax=axes\n",
        "  num_par=0\n",
        "  ax[0].imshow(image_par)\n",
        "  for im in plt.gca().get_images():\n",
        "    im.set_clim(100, 120)\n",
        "  ax[0].set_title('Original Image',fontsize=24)\n",
        "  ax[1].set_title('Particle Finder',fontsize=24)\n",
        "  for idx in range(len(loc_particles)):\n",
        "      \n",
        "\n",
        "      clr = ax[1].imshow(image_par)\n",
        "      r=2\n",
        "      y, x = loc_particles[idx]\n",
        "      c = plt.Circle((x, y), r, color='red', linewidth=2, fill=False)\n",
        "      ax[1].add_patch(c)\n",
        "      ax[1].text(x+5, y+5, str(num_par), c='white', fontsize = 12)\n",
        "      num_par +=1\n",
        "      # ax[idx].set_axis_off()\n",
        "\n",
        "  for im in plt.gca().get_images():\n",
        "    im.set_clim(100, 120)\n",
        "  plt.tight_layout()\n",
        "\n",
        "  file_directory = parent_folder+'analyzed_data/particle_picking/images/'\n",
        "\n",
        "  plt.savefig(file_directory+name+\".png\", bbox_inches = 'tight')\n",
        "  plt.show()\n",
        "  return\n",
        "\n",
        "def Spectra_Window(hyper_image, xpos, ypos,spec_window_size=4):\n",
        "    #Returns the portion of the image within the window given the\n",
        "    #hyper_image (imgsrc), the xposition and the yposition\n",
        "    spectra= hyper_image[:,int(xpos-spec_window_size/2):int(xpos+spec_window_size/2), \n",
        "                    int(ypos-spec_window_size/2):int(ypos+spec_window_size/2)].mean(axis=(1,2))\n",
        "    return spectra\n",
        "\n",
        "def Image_Window(hyper_image, xpos, ypos,im_window_size=16):\n",
        "    #Returns the portion of the image within the window given the\n",
        "    #hyper_image (imgsrc), the xposition and the yposition\n",
        "    image= hyper_image[int(xpos-im_window_size/2):int(xpos+im_window_size/2), \n",
        "                    int(ypos-im_window_size/2):int(ypos+im_window_size/2)]\n",
        "    return image\n",
        "\n",
        "def particle_info_stack(hyper_img,loc_particles,spec_window_size=4,im_window_size=16):\n",
        "  '''\n",
        "  input:\n",
        "  hyper_img:oem data to analysis\n",
        "  loc_particles:information of particle location, should include x and y coordinates\n",
        "  spec_window_size:scalar, optional\n",
        "  im_window_size:scalar, optinal\n",
        "  output:\n",
        "  stack of coordinate, spectrum and image of each particle\n",
        "  coord_stack: stack of coordinate of each particle\n",
        "  spectra_stack:stack of spetrum of each particle\n",
        "  image: stack of an image of each particle\n",
        "  '''\n",
        "  image_stack = np.zeros((im_window_size,im_window_size))\n",
        "  image_mean=hyper_img.mean(axis=0)\n",
        "  time=hyper_img.shape[0]\n",
        "  coord_stack = np.zeros((2))\n",
        "  spectra_stack=np.zeros((time))\n",
        "\n",
        "  for j in range(len(loc_particles)):\n",
        "    xc,yc=loc_particles[j][0:2]\n",
        "    one_spectra=Spectra_Window(hyper_img,xc,yc,spec_window_size=spec_window_size)\n",
        "    one_particle=Image_Window(image_mean,xc,yc,im_window_size=im_window_size)\n",
        "    if one_particle.shape[0] ==16 & one_particle.shape[1]==16:\n",
        "      coord_stack = np.vstack((coord_stack, loc_particles[j][0:2]))\n",
        "      spectra_stack=np.vstack((spectra_stack,one_spectra))\n",
        "      image_stack = np.dstack((image_stack, one_particle))\n",
        "\n",
        "  coord_stack = coord_stack[1:,:]\n",
        "  spectra_stack=spectra_stack[1:,]\n",
        "  image_stack = image_stack[:,:,1:]\n",
        "  image_stack = np.swapaxes(image_stack, 0, 2)\n",
        "  return coord_stack,spectra_stack,image_stack"
      ]
    },
    {
      "cell_type": "markdown",
      "metadata": {
        "id": "OZknZtoETWRK"
      },
      "source": [
        "Connect your Google Drive"
      ]
    },
    {
      "cell_type": "code",
      "execution_count": null,
      "metadata": {
        "id": "48M7Dutk8U-f"
      },
      "outputs": [],
      "source": [
        "from google.colab import drive\n",
        "drive.mount('/content/drive')"
      ]
    },
    {
      "cell_type": "markdown",
      "source": [
        "This code expects the following file tree:\n",
        "1. parent_folder = directory_path/Large Data Folder/ (where large data folder is for example all videos collected on May 12th)\n",
        "2. folder_path = directory_path/Large Data Folder/Data Folder 1/ (where data folder 1 is for example the 1st video collected on May 12th)\n",
        "\n",
        "The code creates the following file tree:\n",
        "1. directory_path/Large Data Folder/analyzed_data/ (stores all the analyzed data)\n",
        "2. directory_path/Large Data Folder/analyzed_data/particle_picking/ (save folder for the data associated with selecting the QDs from the videos)\n",
        "3. directory_path/Large Data Folder/analyzed_data/particle_picking/images/ (save folder for the final particle picking images)\n",
        "4. directory_path/Large Data Folder/analyzed_data/particle_picking/traces/ (save folder for the blinking traces extracted from the video)"
      ],
      "metadata": {
        "id": "nnW3yJxkdfGQ"
      }
    },
    {
      "cell_type": "code",
      "execution_count": null,
      "metadata": {
        "id": "qvhmySenekja"
      },
      "outputs": [],
      "source": [
        "## FILE SET UP\n",
        "\n",
        "parent_folder = \"//InsertYourPathHere//\"        #overarching folder containing roi's remember to add the / for the end of path\n",
        "folder_path = \"//InsertYourPathHere//\"   #folder of roi .ome.tiff has_1 in path\n",
        "\n",
        "name = \"//InsertYourDataNameHere//\"   #name of roi    #DO NOT INCLUDE .ome.tif EXTENSION IN NAME\n",
        "\n",
        "file_directory= parent_folder+'analyzed_data/' #create save folder file\n",
        "if os.path.exists(file_directory) == False:\n",
        "  os.mkdir(file_directory)\n",
        "\n",
        "file_directory= parent_folder+'analyzed_data/particle_picking/' #create save folder file\n",
        "if os.path.exists(file_directory) == False:\n",
        "  os.mkdir(file_directory)\n",
        "\n",
        "file_directory= parent_folder+'analyzed_data/particle_picking/images/' #create save folder file\n",
        "if os.path.exists(file_directory) == False:\n",
        "  os.mkdir(file_directory)\n",
        "\n",
        "file_directory= parent_folder+'analyzed_data/particle_picking/traces/' #create save folder file\n",
        "if os.path.exists(file_directory) == False:\n",
        "  os.mkdir(file_directory)\n",
        "\n",
        "## set these dimensions to select particles in a certain area\n",
        "# bounds of [0, -1] will analyze the whole imaged area\n",
        "y_dim = [0, -1]\n",
        "x_dim = [0, -1]\n"
      ]
    },
    {
      "cell_type": "code",
      "execution_count": null,
      "metadata": {
        "colab": {
          "base_uri": "https://localhost:8080/"
        },
        "id": "_9Q-xO67E8EB",
        "outputId": "aeded95d-a58b-42c4-fdf4-08405101c8d3"
      },
      "outputs": [
        {
          "output_type": "execute_result",
          "data": {
            "text/plain": [
              "(8000, 751, 742)"
            ]
          },
          "metadata": {},
          "execution_count": 35
        }
      ],
      "source": [
        "## READ IN ROI ##\n",
        "\n",
        "img_video = AICSImage(folder_path + name +\".ome.tif\")\n",
        "img_video=img_video.data.squeeze()\n",
        "img_video.shape"
      ]
    },
    {
      "cell_type": "code",
      "source": [
        "## if the ROI is not square crop it to be square ##\n",
        "\n",
        "len1 = len(img_video[0,:,0])\n",
        "len2 = len(img_video[0,0,:])\n",
        "if not (len1 == len2):\n",
        "  crop_len = np.amin([len1, len2])\n",
        "  img_video = img_video[:,0:crop_len,0:crop_len]"
      ],
      "metadata": {
        "id": "hORoq4_Phw-P"
      },
      "execution_count": null,
      "outputs": []
    },
    {
      "cell_type": "code",
      "execution_count": null,
      "metadata": {
        "id": "uxXTiQMCcBK_"
      },
      "outputs": [],
      "source": [
        "## ESTABLISH BACKGROUND OF IMAGE ##\n",
        "# we've found that the particle picking method struggles when the particles are very close to the background (ie our QDs which are ~ 3-10 counts/50ms above background on average)\n",
        "# this block calculated what the actuall background of the image is so that we can address this picking issue later on\n",
        "\n",
        "start_val = np.amin([x_dim[0], y_dim[0]])\n",
        "end_val = np.amax([x_dim[1], y_dim[1]])\n",
        "\n",
        "f_list = np.arange(start_val,end_val ,25)   #list of pixel slices to use for backgrounding\n",
        "j = np.zeros(len(img_video[0,:,0]))\n",
        "temp_avg = img_video.mean(axis=0)\n",
        "\n",
        "\n",
        "# take the average of the horizontal and vertical slices in established list\n",
        "for f in f_list:\n",
        "  j+= temp_avg[:, f]\n",
        "  j+= temp_avg[f,:].T\n",
        "\n",
        "j /= (len(f_list)*2)\n",
        "\n",
        "\n",
        "background_val = np.mean(j)+ 3*np.std(j)   #background is mean + 3 std dev of the average image slice\n",
        "print(background_val)\n",
        "plt.plot(temp_avg[:, 300][start_val:end_val])\n",
        "plt.plot(j[start_val:end_val])\n",
        "plt.plot([0,end_val-start_val],[background_val,background_val])\n",
        "plt.legend(['horz. slice 300', 'average slice', 'background value'])"
      ]
    },
    {
      "cell_type": "code",
      "execution_count": null,
      "metadata": {
        "id": "NmWhfzcPFVMK",
        "colab": {
          "base_uri": "https://localhost:8080/",
          "height": 670
        },
        "outputId": "d0f72f89-edd3-43ad-940a-e491ac7c3de1"
      },
      "outputs": [
        {
          "output_type": "execute_result",
          "data": {
            "text/plain": [
              "<matplotlib_scalebar.scalebar.ScaleBar at 0x7f5ecdc802e0>"
            ]
          },
          "metadata": {},
          "execution_count": 38
        },
        {
          "output_type": "display_data",
          "data": {
            "text/plain": [
              "<Figure size 800x800 with 2 Axes>"
            ],
            "image/png": "[encoded data removed]"
          },
          "metadata": {}
        }
      ],
      "source": [
        "## plot the relvent area of the ROI scaled around the background\n",
        "\n",
        "ff = plt.figure()\n",
        "ff.set_figwidth(8)\n",
        "ff.set_figheight(8)\n",
        "plt.imshow(temp_avg[y_dim[0]:y_dim[1],x_dim[0]:x_dim[1]]) #Use Dimensions to clip images to microscope FoV \n",
        "plt.colorbar()\n",
        "plt.clim(background_val-1, background_val+10) #sets color scale, empty min max values plane fit\n",
        "\n",
        "scalebar1 = ScaleBar(11/40, 'um', box_color = \"None\", location = 'lower right', scale_loc = \"top\" ,color = 'w') # 1 pixel = 0.2 meter\n",
        "plt.gca().add_artist(scalebar1)"
      ]
    },
    {
      "cell_type": "code",
      "source": [
        "##set the value of pixels less than the background to zero (provides contrast for the picking algorithim)\n",
        "\n",
        "z = np.zeros(len(img_video[:,0,0]))\n",
        "for r in range(y_dim[0],y_dim[1]):\n",
        "  for c in range(x_dim[0],x_dim[1]):\n",
        "    if temp_avg[r,c] < background_val:\n",
        "      img_video[:,r,c] = z"
      ],
      "metadata": {
        "id": "Q1VqvVoNunuq"
      },
      "execution_count": null,
      "outputs": []
    },
    {
      "cell_type": "code",
      "execution_count": null,
      "metadata": {
        "id": "4NHkdBXtZBlQ",
        "colab": {
          "base_uri": "https://localhost:8080/",
          "height": 643
        },
        "outputId": "14759883-3189-45d2-cf2e-bdca827c3786"
      },
      "outputs": [
        {
          "output_type": "display_data",
          "data": {
            "text/plain": [
              "<Figure size 700x700 with 2 Axes>"
            ],
            "image/png": "[encoded data removed]"
          },
          "metadata": {}
        }
      ],
      "source": [
        "#choose selected area from full image\n",
        "selected_area=img_video[:,y_dim[0]:y_dim[1],x_dim[0]:x_dim[1]]  #y by x\n",
        "\n",
        "#use particles finder dunction to find particle location\n",
        "loc_particles=particle_finder_oem_data(selected_area,min_sigma=2,max_sigma=30, threshold=0.02,overlap=0.1,radius=50)  #increase min_sigma to ~2-3\n",
        "\n",
        "#create a mean image\n",
        "image_par=selected_area.mean(axis=0)\n",
        "\n",
        "#show orginal image and image with particle information\n",
        "particle_show(image_par,loc_particles,parent_folder, name)\n",
        "coord_stack,spectra_stack,image_stack=particle_info_stack(selected_area,loc_particles,spec_window_size=2,im_window_size=16)\n"
      ]
    },
    {
      "cell_type": "code",
      "execution_count": null,
      "metadata": {
        "id": "vpS7HYxmuGX-"
      },
      "outputs": [],
      "source": [
        "##check list for bad selections - ie hot background pixels or clusters\n",
        "\n",
        "max_allowable_I = np.mean(np.mean(spectra_stack, axis = 1)) + 2*np.std(np.mean(spectra_stack, axis = 1))\n",
        "max_allowable_I2 = np.mean(np.mean(spectra_stack, axis = 1)) + 3*np.std(np.mean(spectra_stack, axis = 1))\n",
        "sn_list = []\n",
        "max_list = []\n",
        "min_list = []\n",
        "n = 0\n",
        "while n < len(spectra_stack):\n",
        "  if np.amax(spectra_stack[n,:]) < background_val:        # checks for hot background pixels\n",
        "    spectra_stack = np.delete(spectra_stack, n, axis = 0)\n",
        "  elif np.mean(spectra_stack[n,:]) > max_allowable_I or np.amax(spectra_stack[n,:]) >max_allowable_I2 :     # checks for clusters\n",
        "    spectra_stack = np.delete(spectra_stack, n, axis = 0)\n",
        "  else:\n",
        "    sn_list.append(np.amax(spectra_stack[n,:])/np.amin(spectra_stack[n,:]))\n",
        "    max_list.append(np.amax(spectra_stack[n,:]))\n",
        "    min_list.append(np.amin(spectra_stack[n,:]))\n",
        "    n = n+1\n",
        "\n",
        "print([background_val,max_allowable_I, np.mean(min_list),np.mean(max_list),np.mean(sn_list)])"
      ]
    },
    {
      "cell_type": "code",
      "execution_count": null,
      "metadata": {
        "id": "ch5Y1TtD5eBQ"
      },
      "outputs": [],
      "source": [
        "## plots all of the particle picked spectra\n",
        "\n",
        "ff = plt.figure();\n",
        "ff.set_figwidth(5)\n",
        "ff.set_figheight(1*len(spectra_stack))\n",
        "\n",
        "for n in range(0, len(spectra_stack)):\n",
        "  plt.subplot(len(spectra_stack),1,n+1)\n",
        "  plt.plot(spectra_stack[n,:])\n",
        "  plt.text(0.99, 0.7, n, fontsize = 'large', horizontalalignment='right',\n",
        "  verticalalignment='center', transform=plt.gca().transAxes)"
      ]
    },
    {
      "cell_type": "markdown",
      "metadata": {
        "id": "ArJtkTuVqSf6"
      },
      "source": [
        "**Saving All Outputs:**\n"
      ]
    },
    {
      "cell_type": "code",
      "execution_count": null,
      "metadata": {
        "id": "oghhEiZaqQEn"
      },
      "outputs": [],
      "source": [
        "file_name= name+'.csv' #identify ROI in new file name\n",
        "file_directory = parent_folder+'analyzed_data/particle_picking/traces/'\n",
        "\n",
        "coord_spectra_stack = spectra_stack\n",
        "pd.DataFrame(coord_spectra_stack.T).to_csv(os.path.join(file_directory,file_name))"
      ]
    }
  ],
  "metadata": {
    "colab": {
      "machine_shape": "hm",
      "provenance": []
    },
    "kernelspec": {
      "display_name": "Python 3",
      "name": "python3"
    },
    "language_info": {
      "name": "python"
    }
  },
  "nbformat": 4,
  "nbformat_minor": 0
}